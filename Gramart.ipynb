{
  "nbformat": 4,
  "nbformat_minor": 0,
  "metadata": {
    "colab": {
      "provenance": [],
      "authorship_tag": "ABX9TyOKtg05qzhCBaUSydeNgfJU",
      "include_colab_link": true
    },
    "kernelspec": {
      "name": "python3",
      "display_name": "Python 3"
    },
    "language_info": {
      "name": "python"
    }
  },
  "cells": [
    {
      "cell_type": "markdown",
      "metadata": {
        "id": "view-in-github",
        "colab_type": "text"
      },
      "source": [
        "<a href=\"https://colab.research.google.com/github/LarissaCarrara/Gramart/blob/main/Gramart.ipynb\" target=\"_parent\"><img src=\"https://colab.research.google.com/assets/colab-badge.svg\" alt=\"Open In Colab\"/></a>"
      ]
    },
    {
      "cell_type": "code",
      "source": [
        "%pip -q install google-genai"
      ],
      "metadata": {
        "id": "9nboQkZA2Oke"
      },
      "execution_count": 2,
      "outputs": []
    },
    {
      "cell_type": "code",
      "source": [
        "# Configura a API Key do Google Gemini\n",
        "\n",
        "import os\n",
        "from google.colab import userdata\n",
        "\n",
        "os.environ[\"GOOGLE_API_KEY\"] = userdata.get('GOOGLE_API_KEY')"
      ],
      "metadata": {
        "id": "HPaCpKjE2UAl"
      },
      "execution_count": 3,
      "outputs": []
    },
    {
      "cell_type": "code",
      "source": [
        "# Instalar Framework de agentes do Google\n",
        "!pip install -q google-adk"
      ],
      "metadata": {
        "colab": {
          "base_uri": "https://localhost:8080/"
        },
        "id": "YHDNnPXn2dJI",
        "outputId": "3d1ab830-6e96-41a5-ddc3-48e908b82bce"
      },
      "execution_count": 4,
      "outputs": [
        {
          "output_type": "stream",
          "name": "stdout",
          "text": [
            "\u001b[?25l   \u001b[90m━━━━━━━━━━━━━━━━━━━━━━━━━━━━━━━━━━━━━━━━\u001b[0m \u001b[32m0.0/1.2 MB\u001b[0m \u001b[31m?\u001b[0m eta \u001b[36m-:--:--\u001b[0m\r\u001b[2K   \u001b[91m━━━━━━━━━━━━━━━━━━━━━━━━━━━━━━━━━━━━━━━\u001b[0m\u001b[91m╸\u001b[0m \u001b[32m1.2/1.2 MB\u001b[0m \u001b[31m60.4 MB/s\u001b[0m eta \u001b[36m0:00:01\u001b[0m\r\u001b[2K   \u001b[90m━━━━━━━━━━━━━━━━━━━━━━━━━━━━━━━━━━━━━━━━\u001b[0m \u001b[32m1.2/1.2 MB\u001b[0m \u001b[31m28.0 MB/s\u001b[0m eta \u001b[36m0:00:00\u001b[0m\n",
            "\u001b[?25h\u001b[?25l   \u001b[90m━━━━━━━━━━━━━━━━━━━━━━━━━━━━━━━━━━━━━━━━\u001b[0m \u001b[32m0.0/232.1 kB\u001b[0m \u001b[31m?\u001b[0m eta \u001b[36m-:--:--\u001b[0m\r\u001b[2K   \u001b[90m━━━━━━━━━━━━━━━━━━━━━━━━━━━━━━━━━━━━━━━━\u001b[0m \u001b[32m232.1/232.1 kB\u001b[0m \u001b[31m10.1 MB/s\u001b[0m eta \u001b[36m0:00:00\u001b[0m\n",
            "\u001b[2K   \u001b[90m━━━━━━━━━━━━━━━━━━━━━━━━━━━━━━━━━━━━━━━━\u001b[0m \u001b[32m95.2/95.2 kB\u001b[0m \u001b[31m7.3 MB/s\u001b[0m eta \u001b[36m0:00:00\u001b[0m\n",
            "\u001b[2K   \u001b[90m━━━━━━━━━━━━━━━━━━━━━━━━━━━━━━━━━━━━━━━━\u001b[0m \u001b[32m217.1/217.1 kB\u001b[0m \u001b[31m9.0 MB/s\u001b[0m eta \u001b[36m0:00:00\u001b[0m\n",
            "\u001b[2K   \u001b[90m━━━━━━━━━━━━━━━━━━━━━━━━━━━━━━━━━━━━━━━━\u001b[0m \u001b[32m334.1/334.1 kB\u001b[0m \u001b[31m20.4 MB/s\u001b[0m eta \u001b[36m0:00:00\u001b[0m\n",
            "\u001b[2K   \u001b[90m━━━━━━━━━━━━━━━━━━━━━━━━━━━━━━━━━━━━━━━━\u001b[0m \u001b[32m125.1/125.1 kB\u001b[0m \u001b[31m4.9 MB/s\u001b[0m eta \u001b[36m0:00:00\u001b[0m\n",
            "\u001b[2K   \u001b[90m━━━━━━━━━━━━━━━━━━━━━━━━━━━━━━━━━━━━━━━━\u001b[0m \u001b[32m65.8/65.8 kB\u001b[0m \u001b[31m3.1 MB/s\u001b[0m eta \u001b[36m0:00:00\u001b[0m\n",
            "\u001b[2K   \u001b[90m━━━━━━━━━━━━━━━━━━━━━━━━━━━━━━━━━━━━━━━━\u001b[0m \u001b[32m119.0/119.0 kB\u001b[0m \u001b[31m7.0 MB/s\u001b[0m eta \u001b[36m0:00:00\u001b[0m\n",
            "\u001b[2K   \u001b[90m━━━━━━━━━━━━━━━━━━━━━━━━━━━━━━━━━━━━━━━━\u001b[0m \u001b[32m194.9/194.9 kB\u001b[0m \u001b[31m13.6 MB/s\u001b[0m eta \u001b[36m0:00:00\u001b[0m\n",
            "\u001b[2K   \u001b[90m━━━━━━━━━━━━━━━━━━━━━━━━━━━━━━━━━━━━━━━━\u001b[0m \u001b[32m62.5/62.5 kB\u001b[0m \u001b[31m2.9 MB/s\u001b[0m eta \u001b[36m0:00:00\u001b[0m\n",
            "\u001b[2K   \u001b[90m━━━━━━━━━━━━━━━━━━━━━━━━━━━━━━━━━━━━━━━━\u001b[0m \u001b[32m103.3/103.3 kB\u001b[0m \u001b[31m7.2 MB/s\u001b[0m eta \u001b[36m0:00:00\u001b[0m\n",
            "\u001b[2K   \u001b[90m━━━━━━━━━━━━━━━━━━━━━━━━━━━━━━━━━━━━━━━━\u001b[0m \u001b[32m44.4/44.4 kB\u001b[0m \u001b[31m2.5 MB/s\u001b[0m eta \u001b[36m0:00:00\u001b[0m\n",
            "\u001b[2K   \u001b[90m━━━━━━━━━━━━━━━━━━━━━━━━━━━━━━━━━━━━━━━━\u001b[0m \u001b[32m72.0/72.0 kB\u001b[0m \u001b[31m5.5 MB/s\u001b[0m eta \u001b[36m0:00:00\u001b[0m\n",
            "\u001b[?25h"
          ]
        }
      ]
    },
    {
      "cell_type": "code",
      "source": [
        "from google.adk.agents import Agent\n",
        "from google.adk.runners import Runner\n",
        "from google.adk.sessions import InMemorySessionService\n",
        "from google.adk.tools import google_search\n",
        "from google.genai import types  # Para criar conteúdos (Content e Part)\n",
        "from datetime import date\n",
        "import textwrap # Para formatar melhor a saída de texto\n",
        "from IPython.display import display, Markdown # Para exibir texto formatado no Colab\n",
        "import requests # Para fazer requisições HTTP\n",
        "import warnings\n",
        "\n",
        "warnings.filterwarnings(\"ignore\")"
      ],
      "metadata": {
        "id": "qXpsn0jS2rgC"
      },
      "execution_count": 5,
      "outputs": []
    },
    {
      "cell_type": "code",
      "source": [
        "# Função auxiliar que envia uma mensagem para um agente via Runner e retorna a resposta final\n",
        "def call_agent(agent: Agent, message_text: str) -> str:\n",
        "    # Cria um serviço de sessão em memória\n",
        "    session_service = InMemorySessionService()\n",
        "    # Cria uma nova sessão (você pode personalizar os IDs conforme necessário)\n",
        "    session = session_service.create_session(app_name=agent.name, user_id=\"user1\", session_id=\"session1\")\n",
        "    # Cria um Runner para o agente\n",
        "    runner = Runner(agent=agent, app_name=agent.name, session_service=session_service)\n",
        "    # Cria o conteúdo da mensagem de entrada\n",
        "    content = types.Content(role=\"user\", parts=[types.Part(text=message_text)])\n",
        "\n",
        "    final_response = \"\"\n",
        "    # Itera assincronamente pelos eventos retornados durante a execução do agente\n",
        "    for event in runner.run(user_id=\"user1\", session_id=\"session1\", new_message=content):\n",
        "        if event.is_final_response():\n",
        "          for part in event.content.parts:\n",
        "            if part.text is not None:\n",
        "              final_response += part.text\n",
        "              final_response += \"\\n\"\n",
        "    return final_response"
      ],
      "metadata": {
        "id": "z5fKWuIu2rQG"
      },
      "execution_count": 6,
      "outputs": []
    },
    {
      "cell_type": "code",
      "source": [
        "# Função auxiliar para exibir texto formatado em Markdown no Colab\n",
        "def to_markdown(text):\n",
        "  text = text.replace('•', '  *')\n",
        "  return Markdown(textwrap.indent(text, '> ', predicate=lambda _: True))"
      ],
      "metadata": {
        "id": "qWlprpgd3Lje"
      },
      "execution_count": 7,
      "outputs": []
    },
    {
      "cell_type": "code",
      "source": [
        "##########################################\n",
        "# --- Agente: Busca na internet a explicação da estrutura gramatical --- #\n",
        "##########################################\n",
        "def agente_buscador(frase):\n",
        "\n",
        "    buscador = Agent(\n",
        "        name=\"agente_buscador\",\n",
        "        model=\"gemini-2.0-flash\",\n",
        "        instruction=\"\"\"\n",
        "       Você é um Professor de Português especialista em gramática. Sua função é analisar detalhadamente uma frase fornecida pelo usuário e identificar todas as suas estruturas sintáticas, explicando cada uma de forma clara e didática.\n",
        "\n",
        "Para cada frase que eu te der, você DEVE:\n",
        "\n",
        "Dividir a frase em Oração(ões): Se a frase tiver mais de uma oração, identifique-as separadamente.\n",
        "\n",
        "Para cada oração, identifique o Sujeito e o Predicado.\n",
        "Detalhar cada Estrutura: Para cada oração e termo, explique:\n",
        "\n",
        "Sujeito: Indique qual é o sujeito e seu tipo (ex: simples, composto, oculto/desinencial, indeterminado, ou oração sem sujeito).\n",
        "Predicado: Indique qual é o predicado e seu tipo (ex: verbal, nominal ou verbo-nominal).\n",
        "Verbos: Identifique os verbos e sua função.\n",
        "Complementos Verbais: Encontre Objeto Direto e Objeto Indireto.\n",
        "Complementos Nominais: Identifique se houver.\n",
        "Adjuntos Adnominais: Quais palavras acompanham e caracterizam os substantivos.\n",
        "Adjuntos Adverbiais: Quais palavras ou expressões indicam circunstâncias (tempo, lugar, modo, causa, etc.).\n",
        "Aposto: Se um termo explica ou resume outro.\n",
        "Vocativo: Se houver um termo para chamar.\n",
        "Conjunções/Conectivos: Se houver, explique a função de ligação entre orações ou termos.\n",
        "Formato da Resposta: Apresente a análise de forma organizada e fácil de ler, usando listas ou subtítulos. Para cada estrutura identificada, mostre a parte da frase que a representa e, se aplicável, uma breve explicação ou justificativa de sua classificação.\n",
        "        \"\"\",\n",
        "        description=\"Agente para explicar a estrutura gramatical das frases\",\n",
        "        tools=[google_search]\n",
        "    )\n",
        "\n",
        "    entrada_do_agente_buscador = f\"Frase para passar explicar a estrutura gramatical: {frase}\"\n",
        "\n",
        "    estrutura = call_agent(buscador, entrada_do_agente_buscador)\n",
        "    return estrutura"
      ],
      "metadata": {
        "id": "IsVaDL2t3SSf"
      },
      "execution_count": 12,
      "outputs": []
    },
    {
      "cell_type": "code",
      "source": [
        "frase = input(\"Qual palavra/frase você gostaria de entender a estrutura?: \")\n",
        "result = agente_buscador(frase)\n",
        "print(\"\\n--- 📝 Resultado do Agente (Buscador) ---\\n\")\n",
        "display(to_markdown(result))"
      ],
      "metadata": {
        "colab": {
          "base_uri": "https://localhost:8080/",
          "height": 545
        },
        "id": "IyegJbeCrWy4",
        "outputId": "99318b48-3298-4bb2-889a-334ea2e5a724"
      },
      "execution_count": 11,
      "outputs": [
        {
          "output_type": "stream",
          "name": "stdout",
          "text": [
            "Qual palavra/frase você gostaria de entender a estrutura?: Bem vindo a imersão 2025\n",
            "\n",
            "--- 📝 Resultado do Agente 1 (Buscador) ---\n",
            "\n"
          ]
        },
        {
          "output_type": "display_data",
          "data": {
            "text/plain": [
              "<IPython.core.display.Markdown object>"
            ],
            "text/markdown": "> Aqui está a análise gramatical da frase \"Bem-vindo à imersão 2025\":\n> \n> **1. Análise Geral**\n> \n> *   A frase possui uma única oração.\n> \n> **2. Estrutura da Oração**\n> \n> *   **Sujeito:** Oculto/Desinencial (nós/vocês - depende do contexto, mas geralmente \"vocês\" em saudações).\n> *   **Predicado:** Nominal\n> \n> **3. Detalhamento**\n> \n> *   **Bem-vindo:** Predicativo do sujeito (qualidade/estado atribuído ao sujeito). É a parte nominal do predicado.\n> *   **à:** Contração da preposição \"a\" com o artigo definido feminino \"a\".\n> *   **imersão:** Substantivo feminino, núcleo do complemento nominal.\n> *   **2025:** Adjunto adnominal restritivo, especificando qual imersão (a do ano de 2025).\n> \n> **4. Explicações Adicionais**\n> \n> *   **Predicado Nominal:** O predicado é nominal porque o verbo (implícito, \"sejam\" ou \"estejam\") é de ligação, unindo o sujeito a uma característica (o predicativo do sujeito, \"bem-vindo\").\n> *   **Adjunto Adnominal:** \"2025\" acompanha o substantivo \"imersão\", especificando-o.\n> \n> Em resumo:\n> \n> *   **Sujeito:** (Vocês)\n> *   **Verbo (implícito):** Sejam/Estejam\n> *   **Predicativo do Sujeito:** Bem-vindos\n> *   **Complemento Nominal:** à imersão 2025 (especifica a que o \"bem-vindos\" se refere)\n> \n> Espero que esta análise detalhada ajude na sua tradução para Libras!\n> \n"
          },
          "metadata": {}
        }
      ]
    }
  ]
}